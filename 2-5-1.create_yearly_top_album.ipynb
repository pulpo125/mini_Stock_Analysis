{
 "cells": [
  {
   "attachments": {},
   "cell_type": "markdown",
   "metadata": {},
   "source": [
    "## 5. 분석\n",
    "* 연간 엔터사 별 Top 앨범 출시에 따른 주가 변동률 분석하기"
   ]
  },
  {
   "attachments": {},
   "cell_type": "markdown",
   "metadata": {},
   "source": [
    "과정)\n",
    "1. 연간 엔터사별 Top 앨범 데이터 생성 <br> (1) sql: view top album 생성하기\n",
    "2. 연간 엔터사 별 Top 앨범 출시에 따른 주가 변동률 분석하기"
   ]
  },
  {
   "attachments": {},
   "cell_type": "markdown",
   "metadata": {},
   "source": [
    "### 1. 연간 엔터사별 top 앨범"
   ]
  },
  {
   "cell_type": "code",
   "execution_count": 2,
   "metadata": {},
   "outputs": [],
   "source": [
    "import pandas as pd\n",
    "import pymysql"
   ]
  },
  {
   "cell_type": "code",
   "execution_count": 3,
   "metadata": {},
   "outputs": [],
   "source": [
    "conn = pymysql.connect(host='127.0.0.1'\n",
    "                , port=3306\n",
    "                , user = 'root'\n",
    "                , password='root1234'\n",
    "                , db = 'stock_pj'\n",
    "                , charset='utf8'\n",
    "                ) "
   ]
  },
  {
   "cell_type": "code",
   "execution_count": 4,
   "metadata": {},
   "outputs": [
    {
     "data": {
      "text/plain": [
       "(('agency_stock',),\n",
       " ('singer_agency',),\n",
       " ('top_rank_2018',),\n",
       " ('top_rank_2019',),\n",
       " ('top_rank_2020',),\n",
       " ('top_rank_2021',),\n",
       " ('top_rank_2022',),\n",
       " ('yearly_album_chart',))"
      ]
     },
     "execution_count": 4,
     "metadata": {},
     "output_type": "execute_result"
    }
   ],
   "source": [
    "cur = conn.cursor()\n",
    "cur.execute('SHOW TABLES') # 연동 확인\n",
    "cur.fetchall() # 테이블 이름 확인"
   ]
  },
  {
   "attachments": {},
   "cell_type": "markdown",
   "metadata": {},
   "source": [
    "- view를 이용하여 연간 엔터사별 top 앨범 df 생성하기"
   ]
  },
  {
   "cell_type": "code",
   "execution_count": 5,
   "metadata": {},
   "outputs": [
    {
     "data": {
      "text/html": [
       "<div>\n",
       "<style scoped>\n",
       "    .dataframe tbody tr th:only-of-type {\n",
       "        vertical-align: middle;\n",
       "    }\n",
       "\n",
       "    .dataframe tbody tr th {\n",
       "        vertical-align: top;\n",
       "    }\n",
       "\n",
       "    .dataframe thead th {\n",
       "        text-align: right;\n",
       "    }\n",
       "</style>\n",
       "<table border=\"1\" class=\"dataframe\">\n",
       "  <thead>\n",
       "    <tr style=\"text-align: right;\">\n",
       "      <th></th>\n",
       "      <th>agency_name</th>\n",
       "      <th>year</th>\n",
       "      <th>ranking</th>\n",
       "      <th>singer</th>\n",
       "      <th>title</th>\n",
       "      <th>sales</th>\n",
       "      <th>release_date</th>\n",
       "    </tr>\n",
       "  </thead>\n",
       "  <tbody>\n",
       "    <tr>\n",
       "      <th>0</th>\n",
       "      <td>SM</td>\n",
       "      <td>2018</td>\n",
       "      <td>3</td>\n",
       "      <td>EXO</td>\n",
       "      <td>DON'T MESS UP MY TEMPO - The 5th Album</td>\n",
       "      <td>1452030</td>\n",
       "      <td>2018.11.02</td>\n",
       "    </tr>\n",
       "    <tr>\n",
       "      <th>1</th>\n",
       "      <td>JYP</td>\n",
       "      <td>2018</td>\n",
       "      <td>10</td>\n",
       "      <td>TWICE</td>\n",
       "      <td>What is Love?</td>\n",
       "      <td>348797</td>\n",
       "      <td>2018.04.09</td>\n",
       "    </tr>\n",
       "    <tr>\n",
       "      <th>2</th>\n",
       "      <td>YG</td>\n",
       "      <td>2018</td>\n",
       "      <td>21</td>\n",
       "      <td>BLACKPINK</td>\n",
       "      <td>SQUARE UP</td>\n",
       "      <td>230656</td>\n",
       "      <td>2018.06.15</td>\n",
       "    </tr>\n",
       "    <tr>\n",
       "      <th>3</th>\n",
       "      <td>SM</td>\n",
       "      <td>2019</td>\n",
       "      <td>3</td>\n",
       "      <td>EXO</td>\n",
       "      <td>OBSESSION - The 6th Album</td>\n",
       "      <td>766294</td>\n",
       "      <td>2019.11.27</td>\n",
       "    </tr>\n",
       "    <tr>\n",
       "      <th>4</th>\n",
       "      <td>JYP</td>\n",
       "      <td>2019</td>\n",
       "      <td>9</td>\n",
       "      <td>슈퍼주니어 (Super Junior)</td>\n",
       "      <td>Time_Slip - The 9th Album</td>\n",
       "      <td>427647</td>\n",
       "      <td>2019.10.14</td>\n",
       "    </tr>\n",
       "    <tr>\n",
       "      <th>5</th>\n",
       "      <td>YG</td>\n",
       "      <td>2019</td>\n",
       "      <td>17</td>\n",
       "      <td>BLACKPINK</td>\n",
       "      <td>KILL THIS LOVE</td>\n",
       "      <td>324577</td>\n",
       "      <td>2019.04.05</td>\n",
       "    </tr>\n",
       "    <tr>\n",
       "      <th>6</th>\n",
       "      <td>SM</td>\n",
       "      <td>2020</td>\n",
       "      <td>4</td>\n",
       "      <td>NCT</td>\n",
       "      <td>NCT RESONANCE Pt. 1 - The 2nd Album</td>\n",
       "      <td>1289594</td>\n",
       "      <td>2020.10.12</td>\n",
       "    </tr>\n",
       "    <tr>\n",
       "      <th>7</th>\n",
       "      <td>YG</td>\n",
       "      <td>2020</td>\n",
       "      <td>5</td>\n",
       "      <td>BLACKPINK</td>\n",
       "      <td>THE ALBUM</td>\n",
       "      <td>1244802</td>\n",
       "      <td>2020.10.02</td>\n",
       "    </tr>\n",
       "    <tr>\n",
       "      <th>8</th>\n",
       "      <td>JYP</td>\n",
       "      <td>2020</td>\n",
       "      <td>12</td>\n",
       "      <td>TWICE</td>\n",
       "      <td>MORE &amp; MORE</td>\n",
       "      <td>573431</td>\n",
       "      <td>2020.06.01</td>\n",
       "    </tr>\n",
       "    <tr>\n",
       "      <th>9</th>\n",
       "      <td>SM</td>\n",
       "      <td>2021</td>\n",
       "      <td>2</td>\n",
       "      <td>NCT 127</td>\n",
       "      <td>Sticker - The 3rd Album</td>\n",
       "      <td>2427559</td>\n",
       "      <td>2021.09.17</td>\n",
       "    </tr>\n",
       "    <tr>\n",
       "      <th>10</th>\n",
       "      <td>JYP</td>\n",
       "      <td>2021</td>\n",
       "      <td>8</td>\n",
       "      <td>Stray Kids (스트레이 키즈)</td>\n",
       "      <td>NOEASY</td>\n",
       "      <td>1303106</td>\n",
       "      <td>2021.08.23</td>\n",
       "    </tr>\n",
       "    <tr>\n",
       "      <th>11</th>\n",
       "      <td>YG</td>\n",
       "      <td>2021</td>\n",
       "      <td>56</td>\n",
       "      <td>BLACKPINK</td>\n",
       "      <td>THE ALBUM</td>\n",
       "      <td>190729</td>\n",
       "      <td>2020.10.02</td>\n",
       "    </tr>\n",
       "    <tr>\n",
       "      <th>12</th>\n",
       "      <td>JYP</td>\n",
       "      <td>2022</td>\n",
       "      <td>2</td>\n",
       "      <td>Stray Kids (스트레이 키즈)</td>\n",
       "      <td>MAXIDENT</td>\n",
       "      <td>3176233</td>\n",
       "      <td>2022.10.07</td>\n",
       "    </tr>\n",
       "    <tr>\n",
       "      <th>13</th>\n",
       "      <td>YG</td>\n",
       "      <td>2022</td>\n",
       "      <td>4</td>\n",
       "      <td>BLACKPINK</td>\n",
       "      <td>BORN PINK</td>\n",
       "      <td>2522941</td>\n",
       "      <td>2022.09.16</td>\n",
       "    </tr>\n",
       "    <tr>\n",
       "      <th>14</th>\n",
       "      <td>SM</td>\n",
       "      <td>2022</td>\n",
       "      <td>5</td>\n",
       "      <td>NCT DREAM</td>\n",
       "      <td>Glitch Mode - The 2nd Album</td>\n",
       "      <td>2095544</td>\n",
       "      <td>2022.03.28</td>\n",
       "    </tr>\n",
       "  </tbody>\n",
       "</table>\n",
       "</div>"
      ],
      "text/plain": [
       "   agency_name  year  ranking                singer  \\\n",
       "0           SM  2018        3                   EXO   \n",
       "1          JYP  2018       10                 TWICE   \n",
       "2           YG  2018       21             BLACKPINK   \n",
       "3           SM  2019        3                   EXO   \n",
       "4          JYP  2019        9  슈퍼주니어 (Super Junior)   \n",
       "5           YG  2019       17             BLACKPINK   \n",
       "6           SM  2020        4                   NCT   \n",
       "7           YG  2020        5             BLACKPINK   \n",
       "8          JYP  2020       12                 TWICE   \n",
       "9           SM  2021        2               NCT 127   \n",
       "10         JYP  2021        8  Stray Kids (스트레이 키즈)   \n",
       "11          YG  2021       56             BLACKPINK   \n",
       "12         JYP  2022        2  Stray Kids (스트레이 키즈)   \n",
       "13          YG  2022        4             BLACKPINK   \n",
       "14          SM  2022        5             NCT DREAM   \n",
       "\n",
       "                                     title    sales release_date  \n",
       "0   DON'T MESS UP MY TEMPO - The 5th Album  1452030   2018.11.02  \n",
       "1                            What is Love?   348797   2018.04.09  \n",
       "2                                SQUARE UP   230656   2018.06.15  \n",
       "3                OBSESSION - The 6th Album   766294   2019.11.27  \n",
       "4                Time_Slip - The 9th Album   427647   2019.10.14  \n",
       "5                           KILL THIS LOVE   324577   2019.04.05  \n",
       "6      NCT RESONANCE Pt. 1 - The 2nd Album  1289594   2020.10.12  \n",
       "7                                THE ALBUM  1244802   2020.10.02  \n",
       "8                              MORE & MORE   573431   2020.06.01  \n",
       "9                  Sticker - The 3rd Album  2427559   2021.09.17  \n",
       "10                                  NOEASY  1303106   2021.08.23  \n",
       "11                               THE ALBUM   190729   2020.10.02  \n",
       "12                                MAXIDENT  3176233   2022.10.07  \n",
       "13                               BORN PINK  2522941   2022.09.16  \n",
       "14             Glitch Mode - The 2nd Album  2095544   2022.03.28  "
      ]
     },
     "execution_count": 5,
     "metadata": {},
     "output_type": "execute_result"
    }
   ],
   "source": [
    "view_list = ['top_rank_2018', 'top_rank_2019', 'top_rank_2020', 'top_rank_2021', 'top_rank_2022']\n",
    "year_list = [i for i in range(2018, 2023)]\n",
    "\n",
    "yearly_top_album_tuple = ()\n",
    "\n",
    "for i in range(len(view_list)):\n",
    "    cur.execute(f'''\n",
    "            select sa.agency_name, yac.year, yac.ranking, yac.singer, yac.title, yac.sales, yac.release_date\n",
    "            from yearly_album_chart as yac JOIN singer_agency as sa ON yac.singer = sa.singer\n",
    "            where ranking in (select * from {view_list[i]}) and year = {year_list[i]};\n",
    "            ''')\n",
    "    \n",
    "    one_year_tuple = cur.fetchall()\n",
    "    yearly_top_album_tuple += one_year_tuple\n",
    "\n",
    "yearly_top_album_df = pd.DataFrame(yearly_top_album_tuple)\n",
    "yearly_top_album_df.columns = ['agency_name', 'year', 'ranking', 'singer', 'title', 'sales', 'release_date']\n",
    "yearly_top_album_df\n"
   ]
  },
  {
   "cell_type": "code",
   "execution_count": 6,
   "metadata": {},
   "outputs": [
    {
     "data": {
      "text/plain": [
       "(15, 7)"
      ]
     },
     "execution_count": 6,
     "metadata": {},
     "output_type": "execute_result"
    }
   ],
   "source": [
    "yearly_top_album_df.shape # 3 * 5 = 15 확인 (5년간 3사의 top 앨범 정보)"
   ]
  },
  {
   "cell_type": "code",
   "execution_count": 7,
   "metadata": {},
   "outputs": [],
   "source": [
    "# 저장\n",
    "yearly_top_album_df.to_csv('data/yearly_top_album_df.csv', encoding='utf-8', index=False)"
   ]
  },
  {
   "cell_type": "code",
   "execution_count": 9,
   "metadata": {},
   "outputs": [],
   "source": [
    "conn.close()"
   ]
  }
 ],
 "metadata": {
  "kernelspec": {
   "display_name": "base",
   "language": "python",
   "name": "python3"
  },
  "language_info": {
   "codemirror_mode": {
    "name": "ipython",
    "version": 3
   },
   "file_extension": ".py",
   "mimetype": "text/x-python",
   "name": "python",
   "nbconvert_exporter": "python",
   "pygments_lexer": "ipython3",
   "version": "3.10.9"
  },
  "orig_nbformat": 4
 },
 "nbformat": 4,
 "nbformat_minor": 2
}
