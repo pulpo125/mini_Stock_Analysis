{
 "cells": [
  {
   "attachments": {},
   "cell_type": "markdown",
   "metadata": {},
   "source": [
    "## 2-4) 연간 앨범 차트에 있는 앨범들의 출시 날짜 크롤링"
   ]
  },
  {
   "attachments": {},
   "cell_type": "markdown",
   "metadata": {},
   "source": [
    "### yearly_album_chart에 있는 앨범들의 출시 날짜 크롤링"
   ]
  },
  {
   "attachments": {},
   "cell_type": "markdown",
   "metadata": {},
   "source": [
    "### 1. 정확한 검색을 위한 데이터 전처리"
   ]
  },
  {
   "cell_type": "code",
   "execution_count": 2,
   "metadata": {},
   "outputs": [],
   "source": [
    "import requests\n",
    "from bs4 import BeautifulSoup\n",
    "from selenium import webdriver\n",
    "from selenium.webdriver.common.by import By\n",
    "import pandas as pd\n",
    "import time\n",
    "import re\n",
    "import numpy as np"
   ]
  },
  {
   "cell_type": "code",
   "execution_count": 13,
   "metadata": {},
   "outputs": [
    {
     "data": {
      "text/plain": [
       "500"
      ]
     },
     "execution_count": 13,
     "metadata": {},
     "output_type": "execute_result"
    }
   ],
   "source": [
    "yearly_album_chart_df = pd.read_csv('data/yearly_album_chart_df.csv')\n",
    "len(yearly_album_chart_df)"
   ]
  },
  {
   "attachments": {},
   "cell_type": "markdown",
   "metadata": {},
   "source": [
    "- 정확한 검색을 위해 따옴표 하나로 처리"
   ]
  },
  {
   "cell_type": "code",
   "execution_count": 15,
   "metadata": {},
   "outputs": [],
   "source": [
    "# yearly_album_chart_df['title'] = [title.replace(\"''\", \"'\") for title in yearly_album_chart_df['title']]"
   ]
  },
  {
   "attachments": {},
   "cell_type": "markdown",
   "metadata": {},
   "source": [
    "* 정확한 검색을 위해 대괄호 삭제"
   ]
  },
  {
   "cell_type": "code",
   "execution_count": 20,
   "metadata": {},
   "outputs": [],
   "source": [
    "# new_title_list = []\n",
    "# for title in yearly_album_chart_df['title']:\n",
    "#    new_title_list.append(re.sub(pattern=r'\\([^)]*\\)', repl='', string = title).strip())\n",
    "\n",
    "# yearly_album_chart_df['title'] = new_title_list"
   ]
  },
  {
   "cell_type": "code",
   "execution_count": 23,
   "metadata": {},
   "outputs": [],
   "source": [
    "# new_singer_list = []\n",
    "# for singer in yearly_album_chart_df['singer']:\n",
    "#    new_singer_list.append(re.sub(pattern=r'\\([^)]*\\)', repl='', string = singer).strip())\n",
    "\n",
    "# yearly_album_chart_df['singer'] = new_singer_list"
   ]
  },
  {
   "attachments": {},
   "cell_type": "markdown",
   "metadata": {},
   "source": [
    "* 확인"
   ]
  },
  {
   "cell_type": "code",
   "execution_count": 31,
   "metadata": {},
   "outputs": [
    {
     "data": {
      "text/html": [
       "<div>\n",
       "<style scoped>\n",
       "    .dataframe tbody tr th:only-of-type {\n",
       "        vertical-align: middle;\n",
       "    }\n",
       "\n",
       "    .dataframe tbody tr th {\n",
       "        vertical-align: top;\n",
       "    }\n",
       "\n",
       "    .dataframe thead th {\n",
       "        text-align: right;\n",
       "    }\n",
       "</style>\n",
       "<table border=\"1\" class=\"dataframe\">\n",
       "  <thead>\n",
       "    <tr style=\"text-align: right;\">\n",
       "      <th></th>\n",
       "      <th>year</th>\n",
       "      <th>rank</th>\n",
       "      <th>title</th>\n",
       "      <th>singer</th>\n",
       "      <th>sales</th>\n",
       "    </tr>\n",
       "  </thead>\n",
       "  <tbody>\n",
       "    <tr>\n",
       "      <th>0</th>\n",
       "      <td>2018</td>\n",
       "      <td>1</td>\n",
       "      <td>LOVE YOURSELF 結 'Answer'</td>\n",
       "      <td>방탄소년단</td>\n",
       "      <td>2197808</td>\n",
       "    </tr>\n",
       "    <tr>\n",
       "      <th>1</th>\n",
       "      <td>2018</td>\n",
       "      <td>2</td>\n",
       "      <td>LOVE YOURSELF 轉 'Tear'</td>\n",
       "      <td>방탄소년단</td>\n",
       "      <td>1849537</td>\n",
       "    </tr>\n",
       "    <tr>\n",
       "      <th>2</th>\n",
       "      <td>2018</td>\n",
       "      <td>3</td>\n",
       "      <td>DON'T MESS UP MY TEMPO - The 5th Album</td>\n",
       "      <td>EXO</td>\n",
       "      <td>1452030</td>\n",
       "    </tr>\n",
       "    <tr>\n",
       "      <th>3</th>\n",
       "      <td>2018</td>\n",
       "      <td>4</td>\n",
       "      <td>0+1=1</td>\n",
       "      <td>Wanna One</td>\n",
       "      <td>782562</td>\n",
       "    </tr>\n",
       "    <tr>\n",
       "      <th>4</th>\n",
       "      <td>2018</td>\n",
       "      <td>5</td>\n",
       "      <td>1÷χ=1</td>\n",
       "      <td>Wanna One</td>\n",
       "      <td>641131</td>\n",
       "    </tr>\n",
       "  </tbody>\n",
       "</table>\n",
       "</div>"
      ],
      "text/plain": [
       "   year  rank                                   title     singer    sales\n",
       "0  2018     1                LOVE YOURSELF 結 'Answer'      방탄소년단  2197808\n",
       "1  2018     2                  LOVE YOURSELF 轉 'Tear'      방탄소년단  1849537\n",
       "2  2018     3  DON'T MESS UP MY TEMPO - The 5th Album        EXO  1452030\n",
       "3  2018     4                                   0+1=1  Wanna One   782562\n",
       "4  2018     5                                   1÷χ=1  Wanna One   641131"
      ]
     },
     "execution_count": 31,
     "metadata": {},
     "output_type": "execute_result"
    }
   ],
   "source": [
    "yearly_album_chart_df.head(5)"
   ]
  },
  {
   "cell_type": "code",
   "execution_count": null,
   "metadata": {},
   "outputs": [],
   "source": [
    "# yearly_album_chart_df.loc[yearly_album_chart_df['title'] == '1÷χ=1', 'title'] = '1÷x=1'"
   ]
  },
  {
   "attachments": {},
   "cell_type": "markdown",
   "metadata": {},
   "source": [
    "### 2. 앨범 출시 날짜 크롤링 하기"
   ]
  },
  {
   "attachments": {},
   "cell_type": "markdown",
   "metadata": {},
   "source": [
    "- 검색 url 생성 함수 만들기 <br>\n",
    "create_searchAlbum_url(idx)<br>\n",
    "검색명: 앨범명 + 가수이름"
   ]
  },
  {
   "cell_type": "code",
   "execution_count": 44,
   "metadata": {},
   "outputs": [],
   "source": [
    "#first_url = 'https://www.genie.co.kr/search/searchAlbum?query=LOVE%2520YOURSELF%2520%25E7%25B5%2590%2520%27Answer%27%2520%25EB%25B0%25A9%25ED%2583%2584%25EC%2586%258C%25EB%2585%2584%25EB%258B%25A8'"
   ]
  },
  {
   "cell_type": "code",
   "execution_count": 47,
   "metadata": {},
   "outputs": [
    {
     "name": "stderr",
     "output_type": "stream",
     "text": [
      "C:\\Users\\k9942\\AppData\\Local\\Temp\\ipykernel_9236\\3454815965.py:3: DeprecationWarning: executable_path has been deprecated, please pass in a Service object\n",
      "  driver = webdriver.Chrome(driver_path)\n"
     ]
    }
   ],
   "source": [
    "# driver_path = 'C:/Users/Playdata/Desktop/dev/setup/chromdriver.exe'\n",
    "driver_path = 'C:/Users/k9942/OneDrive/바탕 화면/playdata/dev/setup/chromdriver.exe'\n",
    "driver = webdriver.Chrome(driver_path)"
   ]
  },
  {
   "cell_type": "code",
   "execution_count": 108,
   "metadata": {},
   "outputs": [],
   "source": [
    "def create_searchAlbum_url(idx):\n",
    "    title_singer = list(yearly_album_chart_df.loc[idx][2:4]) # title + singer\n",
    "    search_name = ' '.join(title_singer)\n",
    "\n",
    "    input_search_name = driver.find_elements(By.CSS_SELECTOR, 'input.ipt-search')[0]\n",
    "    input_search_name.clear()\n",
    "    input_search_name.send_keys(search_name)\n",
    "\n",
    "    button = driver.find_element(By.CSS_SELECTOR, 'input.btn-submit')\n",
    "    button.click()\n",
    "\n",
    "    now_url = driver.current_url\n",
    "    search_url = now_url.replace('searchMain', 'searchAlbum')\n",
    "\n",
    "    return search_url"
   ]
  },
  {
   "attachments": {},
   "cell_type": "markdown",
   "metadata": {},
   "source": [
    "* release_date 크롤링"
   ]
  },
  {
   "attachments": {},
   "cell_type": "markdown",
   "metadata": {},
   "source": [
    "50개씩 크롤링 구간 설정) <br>\n",
    "-- 1. range(100) <br>\n",
    "-- 2. range(100, 200) <br>\n",
    "-- 3. range(200, 300) <br>\n",
    "-- 4. range(300, 400) <br>\n",
    "-- 5. range(400, 500) <br>"
   ]
  },
  {
   "cell_type": "code",
   "execution_count": 132,
   "metadata": {},
   "outputs": [
    {
     "data": {
      "text/plain": [
       "100"
      ]
     },
     "execution_count": 132,
     "metadata": {},
     "output_type": "execute_result"
    }
   ],
   "source": [
    "# 5 구간 크롤링\n",
    "release_date_list_500 = []\n",
    "\n",
    "for idx in range(400, 500):\n",
    "    search_url = create_searchAlbum_url(idx)\n",
    "\n",
    "    driver.get(search_url)\n",
    "    html = driver.page_source\n",
    "    soup = BeautifulSoup(html, 'html.parser')\n",
    "    release_date = soup.select('dd.desc')\n",
    "\n",
    "    try:\n",
    "        release_date = release_date[0].get_text().split('|')[0].strip()\n",
    "\n",
    "    except:\n",
    "        release_date = np.NaN\n",
    "\n",
    "    release_date_list_500.append(release_date)\n",
    "    time.sleep(3)\n",
    "\n",
    "len(release_date_list_500)"
   ]
  },
  {
   "cell_type": "code",
   "execution_count": 133,
   "metadata": {},
   "outputs": [],
   "source": [
    "# 데이터 프레임 생성\n",
    "release_data_500_df = pd.DataFrame()\n",
    "release_data_500_df['release_date'] = release_date_list_500"
   ]
  },
  {
   "cell_type": "code",
   "execution_count": 134,
   "metadata": {},
   "outputs": [
    {
     "data": {
      "text/plain": [
       "release_date    0\n",
       "dtype: int64"
      ]
     },
     "execution_count": 134,
     "metadata": {},
     "output_type": "execute_result"
    }
   ],
   "source": [
    "# null 값 확인\n",
    "release_data_500_df.isnull().sum()"
   ]
  },
  {
   "cell_type": "code",
   "execution_count": 135,
   "metadata": {},
   "outputs": [
    {
     "data": {
      "text/plain": [
       "(100, 1)"
      ]
     },
     "execution_count": 135,
     "metadata": {},
     "output_type": "execute_result"
    }
   ],
   "source": [
    "# shape 확인\n",
    "release_data_500_df.shape"
   ]
  },
  {
   "cell_type": "code",
   "execution_count": 136,
   "metadata": {},
   "outputs": [],
   "source": [
    "# 5구간 df를 csv 파일로 저장\n",
    "release_data_500_df.to_csv('data/release_data_500_df.csv', encoding='utf-8', index=False)"
   ]
  },
  {
   "attachments": {},
   "cell_type": "markdown",
   "metadata": {},
   "source": [
    "- total_release_date_df 생성"
   ]
  },
  {
   "cell_type": "code",
   "execution_count": 143,
   "metadata": {},
   "outputs": [
    {
     "data": {
      "text/plain": [
       "(500, 1)"
      ]
     },
     "execution_count": 143,
     "metadata": {},
     "output_type": "execute_result"
    }
   ],
   "source": [
    "df_100 = pd.read_csv('data/release_data_100_df.csv')\n",
    "df_200 = pd.read_csv('data/release_data_200_df.csv')\n",
    "df_300 = pd.read_csv('data/release_data_300_df.csv')\n",
    "df_400 = pd.read_csv('data/release_data_400_df.csv')\n",
    "df_500 = pd.read_csv('data/release_data_500_df.csv')\n",
    "\n",
    "total_release_date_df = pd.concat([df_100, df_200, df_300, df_400, df_500])\n",
    "total_release_date_df.shape"
   ]
  },
  {
   "cell_type": "code",
   "execution_count": 144,
   "metadata": {},
   "outputs": [
    {
     "data": {
      "text/html": [
       "<div>\n",
       "<style scoped>\n",
       "    .dataframe tbody tr th:only-of-type {\n",
       "        vertical-align: middle;\n",
       "    }\n",
       "\n",
       "    .dataframe tbody tr th {\n",
       "        vertical-align: top;\n",
       "    }\n",
       "\n",
       "    .dataframe thead th {\n",
       "        text-align: right;\n",
       "    }\n",
       "</style>\n",
       "<table border=\"1\" class=\"dataframe\">\n",
       "  <thead>\n",
       "    <tr style=\"text-align: right;\">\n",
       "      <th></th>\n",
       "      <th>release_date</th>\n",
       "    </tr>\n",
       "  </thead>\n",
       "  <tbody>\n",
       "    <tr>\n",
       "      <th>0</th>\n",
       "      <td>2018.08.24</td>\n",
       "    </tr>\n",
       "    <tr>\n",
       "      <th>1</th>\n",
       "      <td>2018.05.18</td>\n",
       "    </tr>\n",
       "    <tr>\n",
       "      <th>2</th>\n",
       "      <td>2018.11.02</td>\n",
       "    </tr>\n",
       "    <tr>\n",
       "      <th>3</th>\n",
       "      <td>2018.03.19</td>\n",
       "    </tr>\n",
       "    <tr>\n",
       "      <th>4</th>\n",
       "      <td>2018.06.04</td>\n",
       "    </tr>\n",
       "  </tbody>\n",
       "</table>\n",
       "</div>"
      ],
      "text/plain": [
       "  release_date\n",
       "0   2018.08.24\n",
       "1   2018.05.18\n",
       "2   2018.11.02\n",
       "3   2018.03.19\n",
       "4   2018.06.04"
      ]
     },
     "execution_count": 144,
     "metadata": {},
     "output_type": "execute_result"
    }
   ],
   "source": [
    "total_release_date_df.head()"
   ]
  },
  {
   "cell_type": "code",
   "execution_count": 145,
   "metadata": {},
   "outputs": [
    {
     "data": {
      "text/html": [
       "<div>\n",
       "<style scoped>\n",
       "    .dataframe tbody tr th:only-of-type {\n",
       "        vertical-align: middle;\n",
       "    }\n",
       "\n",
       "    .dataframe tbody tr th {\n",
       "        vertical-align: top;\n",
       "    }\n",
       "\n",
       "    .dataframe thead th {\n",
       "        text-align: right;\n",
       "    }\n",
       "</style>\n",
       "<table border=\"1\" class=\"dataframe\">\n",
       "  <thead>\n",
       "    <tr style=\"text-align: right;\">\n",
       "      <th></th>\n",
       "      <th>release_date</th>\n",
       "    </tr>\n",
       "  </thead>\n",
       "  <tbody>\n",
       "    <tr>\n",
       "      <th>95</th>\n",
       "      <td>2021.05.31</td>\n",
       "    </tr>\n",
       "    <tr>\n",
       "      <th>96</th>\n",
       "      <td>2022.05.24</td>\n",
       "    </tr>\n",
       "    <tr>\n",
       "      <th>97</th>\n",
       "      <td>2022.03.15</td>\n",
       "    </tr>\n",
       "    <tr>\n",
       "      <th>98</th>\n",
       "      <td>2022.10.19</td>\n",
       "    </tr>\n",
       "    <tr>\n",
       "      <th>99</th>\n",
       "      <td>2022.08.16</td>\n",
       "    </tr>\n",
       "  </tbody>\n",
       "</table>\n",
       "</div>"
      ],
      "text/plain": [
       "   release_date\n",
       "95   2021.05.31\n",
       "96   2022.05.24\n",
       "97   2022.03.15\n",
       "98   2022.10.19\n",
       "99   2022.08.16"
      ]
     },
     "execution_count": 145,
     "metadata": {},
     "output_type": "execute_result"
    }
   ],
   "source": [
    "total_release_date_df.tail()"
   ]
  },
  {
   "cell_type": "code",
   "execution_count": 147,
   "metadata": {},
   "outputs": [
    {
     "data": {
      "text/plain": [
       "release_date    8\n",
       "dtype: int64"
      ]
     },
     "execution_count": 147,
     "metadata": {},
     "output_type": "execute_result"
    }
   ],
   "source": [
    "total_release_date_df.isnull().sum()"
   ]
  },
  {
   "cell_type": "code",
   "execution_count": 150,
   "metadata": {},
   "outputs": [],
   "source": [
    "# 500개의 release_date 저장\n",
    "total_release_date_df.to_csv('data/total_release_date_df.csv', encoding='utf-8', index=False)"
   ]
  },
  {
   "attachments": {},
   "cell_type": "markdown",
   "metadata": {},
   "source": [
    "### 3. yearly_album_chart_with_date.csv 생성"
   ]
  },
  {
   "cell_type": "code",
   "execution_count": 151,
   "metadata": {},
   "outputs": [
    {
     "data": {
      "text/plain": [
       "(500, 5)"
      ]
     },
     "execution_count": 151,
     "metadata": {},
     "output_type": "execute_result"
    }
   ],
   "source": [
    "yearly_album_chart = pd.read_csv('data/yearly_album_chart_df.csv')\n",
    "yearly_album_chart.shape"
   ]
  },
  {
   "cell_type": "code",
   "execution_count": 157,
   "metadata": {},
   "outputs": [
    {
     "data": {
      "text/plain": [
       "500"
      ]
     },
     "execution_count": 157,
     "metadata": {},
     "output_type": "execute_result"
    }
   ],
   "source": [
    "total_release_date_list = list(total_release_date_df['release_date'])\n",
    "len(total_release_date_list)"
   ]
  },
  {
   "cell_type": "code",
   "execution_count": 159,
   "metadata": {},
   "outputs": [],
   "source": [
    "yearly_album_chart['release_date'] = total_release_date_list"
   ]
  },
  {
   "cell_type": "code",
   "execution_count": 160,
   "metadata": {},
   "outputs": [
    {
     "data": {
      "text/plain": [
       "(500, 6)"
      ]
     },
     "execution_count": 160,
     "metadata": {},
     "output_type": "execute_result"
    }
   ],
   "source": [
    "yearly_album_chart.shape"
   ]
  },
  {
   "cell_type": "code",
   "execution_count": 161,
   "metadata": {},
   "outputs": [
    {
     "data": {
      "text/html": [
       "<div>\n",
       "<style scoped>\n",
       "    .dataframe tbody tr th:only-of-type {\n",
       "        vertical-align: middle;\n",
       "    }\n",
       "\n",
       "    .dataframe tbody tr th {\n",
       "        vertical-align: top;\n",
       "    }\n",
       "\n",
       "    .dataframe thead th {\n",
       "        text-align: right;\n",
       "    }\n",
       "</style>\n",
       "<table border=\"1\" class=\"dataframe\">\n",
       "  <thead>\n",
       "    <tr style=\"text-align: right;\">\n",
       "      <th></th>\n",
       "      <th>year</th>\n",
       "      <th>rank</th>\n",
       "      <th>title</th>\n",
       "      <th>singer</th>\n",
       "      <th>sales</th>\n",
       "      <th>release_date</th>\n",
       "    </tr>\n",
       "  </thead>\n",
       "  <tbody>\n",
       "    <tr>\n",
       "      <th>0</th>\n",
       "      <td>2018</td>\n",
       "      <td>1</td>\n",
       "      <td>LOVE YOURSELF 結 ''Answer''</td>\n",
       "      <td>방탄소년단</td>\n",
       "      <td>2197808</td>\n",
       "      <td>2018.08.24</td>\n",
       "    </tr>\n",
       "    <tr>\n",
       "      <th>1</th>\n",
       "      <td>2018</td>\n",
       "      <td>2</td>\n",
       "      <td>LOVE YOURSELF 轉 ''Tear''</td>\n",
       "      <td>방탄소년단</td>\n",
       "      <td>1849537</td>\n",
       "      <td>2018.05.18</td>\n",
       "    </tr>\n",
       "    <tr>\n",
       "      <th>2</th>\n",
       "      <td>2018</td>\n",
       "      <td>3</td>\n",
       "      <td>DON''T MESS UP MY TEMPO - The 5th Album</td>\n",
       "      <td>EXO</td>\n",
       "      <td>1452030</td>\n",
       "      <td>2018.11.02</td>\n",
       "    </tr>\n",
       "    <tr>\n",
       "      <th>3</th>\n",
       "      <td>2018</td>\n",
       "      <td>4</td>\n",
       "      <td>0+1=1 (I PROMISE YOU)</td>\n",
       "      <td>Wanna One (워너원)</td>\n",
       "      <td>782562</td>\n",
       "      <td>2018.03.19</td>\n",
       "    </tr>\n",
       "    <tr>\n",
       "      <th>4</th>\n",
       "      <td>2018</td>\n",
       "      <td>5</td>\n",
       "      <td>1÷χ=1 (UNDIVIDED)</td>\n",
       "      <td>Wanna One (워너원)</td>\n",
       "      <td>641131</td>\n",
       "      <td>2018.06.04</td>\n",
       "    </tr>\n",
       "  </tbody>\n",
       "</table>\n",
       "</div>"
      ],
      "text/plain": [
       "   year  rank                                    title           singer  \\\n",
       "0  2018     1               LOVE YOURSELF 結 ''Answer''            방탄소년단   \n",
       "1  2018     2                 LOVE YOURSELF 轉 ''Tear''            방탄소년단   \n",
       "2  2018     3  DON''T MESS UP MY TEMPO - The 5th Album              EXO   \n",
       "3  2018     4                    0+1=1 (I PROMISE YOU)  Wanna One (워너원)   \n",
       "4  2018     5                        1÷χ=1 (UNDIVIDED)  Wanna One (워너원)   \n",
       "\n",
       "     sales release_date  \n",
       "0  2197808   2018.08.24  \n",
       "1  1849537   2018.05.18  \n",
       "2  1452030   2018.11.02  \n",
       "3   782562   2018.03.19  \n",
       "4   641131   2018.06.04  "
      ]
     },
     "execution_count": 161,
     "metadata": {},
     "output_type": "execute_result"
    }
   ],
   "source": [
    "yearly_album_chart.head()"
   ]
  },
  {
   "cell_type": "code",
   "execution_count": 162,
   "metadata": {},
   "outputs": [
    {
     "data": {
      "text/html": [
       "<div>\n",
       "<style scoped>\n",
       "    .dataframe tbody tr th:only-of-type {\n",
       "        vertical-align: middle;\n",
       "    }\n",
       "\n",
       "    .dataframe tbody tr th {\n",
       "        vertical-align: top;\n",
       "    }\n",
       "\n",
       "    .dataframe thead th {\n",
       "        text-align: right;\n",
       "    }\n",
       "</style>\n",
       "<table border=\"1\" class=\"dataframe\">\n",
       "  <thead>\n",
       "    <tr style=\"text-align: right;\">\n",
       "      <th></th>\n",
       "      <th>year</th>\n",
       "      <th>rank</th>\n",
       "      <th>title</th>\n",
       "      <th>singer</th>\n",
       "      <th>sales</th>\n",
       "      <th>release_date</th>\n",
       "    </tr>\n",
       "  </thead>\n",
       "  <tbody>\n",
       "    <tr>\n",
       "      <th>495</th>\n",
       "      <td>2022</td>\n",
       "      <td>96</td>\n",
       "      <td>혼돈의 장: FREEZE</td>\n",
       "      <td>투모로우바이투게더</td>\n",
       "      <td>152900</td>\n",
       "      <td>2021.05.31</td>\n",
       "    </tr>\n",
       "    <tr>\n",
       "      <th>496</th>\n",
       "      <td>2022</td>\n",
       "      <td>97</td>\n",
       "      <td>The Story (META)</td>\n",
       "      <td>강다니엘</td>\n",
       "      <td>149807</td>\n",
       "      <td>2022.05.24</td>\n",
       "    </tr>\n",
       "    <tr>\n",
       "      <th>497</th>\n",
       "      <td>2022</td>\n",
       "      <td>98</td>\n",
       "      <td>REFUGE</td>\n",
       "      <td>문빈&amp;산하</td>\n",
       "      <td>147056</td>\n",
       "      <td>2022.03.15</td>\n",
       "    </tr>\n",
       "    <tr>\n",
       "      <th>498</th>\n",
       "      <td>2022</td>\n",
       "      <td>99</td>\n",
       "      <td>Love Pt.2 : Passion</td>\n",
       "      <td>위아이 (WEi)</td>\n",
       "      <td>146044</td>\n",
       "      <td>2022.10.19</td>\n",
       "    </tr>\n",
       "    <tr>\n",
       "      <th>499</th>\n",
       "      <td>2022</td>\n",
       "      <td>100</td>\n",
       "      <td>7TH MINI ALBUM [BE AWARE] (META)</td>\n",
       "      <td>더보이즈(THE BOYZ)</td>\n",
       "      <td>144734</td>\n",
       "      <td>2022.08.16</td>\n",
       "    </tr>\n",
       "  </tbody>\n",
       "</table>\n",
       "</div>"
      ],
      "text/plain": [
       "     year  rank                             title          singer   sales  \\\n",
       "495  2022    96                     혼돈의 장: FREEZE       투모로우바이투게더  152900   \n",
       "496  2022    97                  The Story (META)            강다니엘  149807   \n",
       "497  2022    98                            REFUGE           문빈&산하  147056   \n",
       "498  2022    99               Love Pt.2 : Passion       위아이 (WEi)  146044   \n",
       "499  2022   100  7TH MINI ALBUM [BE AWARE] (META)  더보이즈(THE BOYZ)  144734   \n",
       "\n",
       "    release_date  \n",
       "495   2021.05.31  \n",
       "496   2022.05.24  \n",
       "497   2022.03.15  \n",
       "498   2022.10.19  \n",
       "499   2022.08.16  "
      ]
     },
     "execution_count": 162,
     "metadata": {},
     "output_type": "execute_result"
    }
   ],
   "source": [
    "yearly_album_chart.tail()"
   ]
  },
  {
   "cell_type": "code",
   "execution_count": 163,
   "metadata": {},
   "outputs": [],
   "source": [
    "yearly_album_chart.to_csv('data/yearly_album_chart_with_date.csv', encoding='utf-8', index=False)"
   ]
  },
  {
   "attachments": {},
   "cell_type": "markdown",
   "metadata": {},
   "source": [
    "----"
   ]
  }
 ],
 "metadata": {
  "kernelspec": {
   "display_name": "base",
   "language": "python",
   "name": "python3"
  },
  "language_info": {
   "codemirror_mode": {
    "name": "ipython",
    "version": 3
   },
   "file_extension": ".py",
   "mimetype": "text/x-python",
   "name": "python",
   "nbconvert_exporter": "python",
   "pygments_lexer": "ipython3",
   "version": "3.10.9"
  },
  "orig_nbformat": 4
 },
 "nbformat": 4,
 "nbformat_minor": 2
}
