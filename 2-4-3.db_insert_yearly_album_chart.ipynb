{
 "cells": [
  {
   "attachments": {},
   "cell_type": "markdown",
   "metadata": {},
   "source": [
    "## 2-3. DB INSERT_yearly_album_chart"
   ]
  },
  {
   "attachments": {},
   "cell_type": "markdown",
   "metadata": {},
   "source": [
    "### 3사 앨범 순위 정보만 추출하여 DB에 Insert 하기"
   ]
  },
  {
   "cell_type": "code",
   "execution_count": 67,
   "metadata": {},
   "outputs": [],
   "source": [
    "import pandas as pd\n",
    "import pymysql"
   ]
  },
  {
   "cell_type": "code",
   "execution_count": 68,
   "metadata": {},
   "outputs": [],
   "source": [
    "conn = pymysql.connect(host='127.0.0.1'\n",
    "                , port=3306\n",
    "                , user = 'root'\n",
    "                , password='root1234'\n",
    "                , db = 'stock_pj'\n",
    "                , charset='utf8'\n",
    "                ) "
   ]
  },
  {
   "cell_type": "code",
   "execution_count": 69,
   "metadata": {},
   "outputs": [
    {
     "data": {
      "text/plain": [
       "(('agency_stock',),\n",
       " ('singer_agency',),\n",
       " ('top_rank_2018',),\n",
       " ('yearly_album_chart',))"
      ]
     },
     "execution_count": 69,
     "metadata": {},
     "output_type": "execute_result"
    }
   ],
   "source": [
    "cur = conn.cursor()\n",
    "cur.execute('SHOW TABLES') # 연동 확인\n",
    "cur.fetchall() # 테이블 이름 확인"
   ]
  },
  {
   "attachments": {},
   "cell_type": "markdown",
   "metadata": {},
   "source": [
    "### 1. DB에 'singer_agency' 정보를 가져와 3사 앨범 순위 정보만 추출하기"
   ]
  },
  {
   "attachments": {},
   "cell_type": "markdown",
   "metadata": {},
   "source": [
    "- singer_agency 테이블 불러오기"
   ]
  },
  {
   "cell_type": "code",
   "execution_count": 36,
   "metadata": {},
   "outputs": [
    {
     "data": {
      "text/html": [
       "<div>\n",
       "<style scoped>\n",
       "    .dataframe tbody tr th:only-of-type {\n",
       "        vertical-align: middle;\n",
       "    }\n",
       "\n",
       "    .dataframe tbody tr th {\n",
       "        vertical-align: top;\n",
       "    }\n",
       "\n",
       "    .dataframe thead th {\n",
       "        text-align: right;\n",
       "    }\n",
       "</style>\n",
       "<table border=\"1\" class=\"dataframe\">\n",
       "  <thead>\n",
       "    <tr style=\"text-align: right;\">\n",
       "      <th></th>\n",
       "      <th>singer</th>\n",
       "      <th>agency_name</th>\n",
       "    </tr>\n",
       "  </thead>\n",
       "  <tbody>\n",
       "    <tr>\n",
       "      <th>0</th>\n",
       "      <td>2PM</td>\n",
       "      <td>JYP</td>\n",
       "    </tr>\n",
       "    <tr>\n",
       "      <th>1</th>\n",
       "      <td>DAY6</td>\n",
       "      <td>JYP</td>\n",
       "    </tr>\n",
       "    <tr>\n",
       "      <th>2</th>\n",
       "      <td>ITZY (있지)</td>\n",
       "      <td>JYP</td>\n",
       "    </tr>\n",
       "    <tr>\n",
       "      <th>3</th>\n",
       "      <td>NMIXX</td>\n",
       "      <td>JYP</td>\n",
       "    </tr>\n",
       "    <tr>\n",
       "      <th>4</th>\n",
       "      <td>Stray Kids (스트레이 키즈)</td>\n",
       "      <td>JYP</td>\n",
       "    </tr>\n",
       "  </tbody>\n",
       "</table>\n",
       "</div>"
      ],
      "text/plain": [
       "                 singer agency_name\n",
       "0                   2PM         JYP\n",
       "1                  DAY6         JYP\n",
       "2             ITZY (있지)         JYP\n",
       "3                 NMIXX         JYP\n",
       "4  Stray Kids (스트레이 키즈)         JYP"
      ]
     },
     "execution_count": 36,
     "metadata": {},
     "output_type": "execute_result"
    }
   ],
   "source": [
    "cur.execute('SELECT * FROM singer_agency;')\n",
    "singer_agency =  cur.fetchall()\n",
    "singer_agency_df = pd.DataFrame(singer_agency)\n",
    "singer_agency_df.columns = ['singer', 'agency_name']\n",
    "singer_agency_df.head()"
   ]
  },
  {
   "attachments": {},
   "cell_type": "markdown",
   "metadata": {},
   "source": [
    "* 연간 앨범 차트 데이터를 가져오기"
   ]
  },
  {
   "cell_type": "code",
   "execution_count": 37,
   "metadata": {},
   "outputs": [
    {
     "data": {
      "text/html": [
       "<div>\n",
       "<style scoped>\n",
       "    .dataframe tbody tr th:only-of-type {\n",
       "        vertical-align: middle;\n",
       "    }\n",
       "\n",
       "    .dataframe tbody tr th {\n",
       "        vertical-align: top;\n",
       "    }\n",
       "\n",
       "    .dataframe thead th {\n",
       "        text-align: right;\n",
       "    }\n",
       "</style>\n",
       "<table border=\"1\" class=\"dataframe\">\n",
       "  <thead>\n",
       "    <tr style=\"text-align: right;\">\n",
       "      <th></th>\n",
       "      <th>year</th>\n",
       "      <th>rank</th>\n",
       "      <th>title</th>\n",
       "      <th>singer</th>\n",
       "      <th>sales</th>\n",
       "      <th>release_date</th>\n",
       "    </tr>\n",
       "  </thead>\n",
       "  <tbody>\n",
       "    <tr>\n",
       "      <th>0</th>\n",
       "      <td>2018</td>\n",
       "      <td>1</td>\n",
       "      <td>LOVE YOURSELF 結 ''Answer''</td>\n",
       "      <td>방탄소년단</td>\n",
       "      <td>2197808</td>\n",
       "      <td>2018.08.24</td>\n",
       "    </tr>\n",
       "    <tr>\n",
       "      <th>1</th>\n",
       "      <td>2018</td>\n",
       "      <td>2</td>\n",
       "      <td>LOVE YOURSELF 轉 ''Tear''</td>\n",
       "      <td>방탄소년단</td>\n",
       "      <td>1849537</td>\n",
       "      <td>2018.05.18</td>\n",
       "    </tr>\n",
       "    <tr>\n",
       "      <th>2</th>\n",
       "      <td>2018</td>\n",
       "      <td>3</td>\n",
       "      <td>DON''T MESS UP MY TEMPO - The 5th Album</td>\n",
       "      <td>EXO</td>\n",
       "      <td>1452030</td>\n",
       "      <td>2018.11.02</td>\n",
       "    </tr>\n",
       "    <tr>\n",
       "      <th>3</th>\n",
       "      <td>2018</td>\n",
       "      <td>4</td>\n",
       "      <td>0+1=1 (I PROMISE YOU)</td>\n",
       "      <td>Wanna One (워너원)</td>\n",
       "      <td>782562</td>\n",
       "      <td>2018.03.19</td>\n",
       "    </tr>\n",
       "    <tr>\n",
       "      <th>4</th>\n",
       "      <td>2018</td>\n",
       "      <td>5</td>\n",
       "      <td>1÷χ=1 (UNDIVIDED)</td>\n",
       "      <td>Wanna One (워너원)</td>\n",
       "      <td>641131</td>\n",
       "      <td>2018.06.04</td>\n",
       "    </tr>\n",
       "  </tbody>\n",
       "</table>\n",
       "</div>"
      ],
      "text/plain": [
       "   year  rank                                    title           singer  \\\n",
       "0  2018     1               LOVE YOURSELF 結 ''Answer''            방탄소년단   \n",
       "1  2018     2                 LOVE YOURSELF 轉 ''Tear''            방탄소년단   \n",
       "2  2018     3  DON''T MESS UP MY TEMPO - The 5th Album              EXO   \n",
       "3  2018     4                    0+1=1 (I PROMISE YOU)  Wanna One (워너원)   \n",
       "4  2018     5                        1÷χ=1 (UNDIVIDED)  Wanna One (워너원)   \n",
       "\n",
       "     sales release_date  \n",
       "0  2197808   2018.08.24  \n",
       "1  1849537   2018.05.18  \n",
       "2  1452030   2018.11.02  \n",
       "3   782562   2018.03.19  \n",
       "4   641131   2018.06.04  "
      ]
     },
     "execution_count": 37,
     "metadata": {},
     "output_type": "execute_result"
    }
   ],
   "source": [
    "yearly_album_chart_df = pd.read_csv('data/yearly_album_chart_with_date.csv')\n",
    "yearly_album_chart_df.head()"
   ]
  },
  {
   "attachments": {},
   "cell_type": "markdown",
   "metadata": {},
   "source": [
    "- singer_agency의 singer와 비교하여 3사 앨범의 정보만 추출하기"
   ]
  },
  {
   "cell_type": "code",
   "execution_count": 38,
   "metadata": {},
   "outputs": [],
   "source": [
    "total_yearly_album_df = pd.DataFrame()\n",
    "for singer_1 in yearly_album_chart_df['singer']:\n",
    "    for singer_2 in singer_agency_df['singer']:\n",
    "        if singer_1 == singer_2:\n",
    "            tmp_df = yearly_album_chart_df[yearly_album_chart_df['singer'] == singer_1]\n",
    "            total_yearly_album_df = pd.concat([total_yearly_album_df, tmp_df])"
   ]
  },
  {
   "cell_type": "code",
   "execution_count": 39,
   "metadata": {},
   "outputs": [],
   "source": [
    "# 중복 제거\n",
    "total_yearly_album_df.drop_duplicates(inplace=True)"
   ]
  },
  {
   "cell_type": "code",
   "execution_count": 41,
   "metadata": {},
   "outputs": [],
   "source": [
    "# 정렬\n",
    "total_yearly_album_df.sort_values(['year', 'rank'], inplace=True)"
   ]
  },
  {
   "cell_type": "code",
   "execution_count": 42,
   "metadata": {},
   "outputs": [],
   "source": [
    "# 인덱스 리셋\n",
    "total_yearly_album_df.reset_index(drop=True, inplace=True)"
   ]
  },
  {
   "cell_type": "code",
   "execution_count": 44,
   "metadata": {},
   "outputs": [
    {
     "data": {
      "text/html": [
       "<div>\n",
       "<style scoped>\n",
       "    .dataframe tbody tr th:only-of-type {\n",
       "        vertical-align: middle;\n",
       "    }\n",
       "\n",
       "    .dataframe tbody tr th {\n",
       "        vertical-align: top;\n",
       "    }\n",
       "\n",
       "    .dataframe thead th {\n",
       "        text-align: right;\n",
       "    }\n",
       "</style>\n",
       "<table border=\"1\" class=\"dataframe\">\n",
       "  <thead>\n",
       "    <tr style=\"text-align: right;\">\n",
       "      <th></th>\n",
       "      <th>year</th>\n",
       "      <th>rank</th>\n",
       "      <th>title</th>\n",
       "      <th>singer</th>\n",
       "      <th>sales</th>\n",
       "      <th>release_date</th>\n",
       "    </tr>\n",
       "  </thead>\n",
       "  <tbody>\n",
       "    <tr>\n",
       "      <th>0</th>\n",
       "      <td>2018</td>\n",
       "      <td>3</td>\n",
       "      <td>DON''T MESS UP MY TEMPO - The 5th Album</td>\n",
       "      <td>EXO</td>\n",
       "      <td>1452030</td>\n",
       "      <td>2018.11.02</td>\n",
       "    </tr>\n",
       "    <tr>\n",
       "      <th>1</th>\n",
       "      <td>2018</td>\n",
       "      <td>7</td>\n",
       "      <td>LOVE SHOT - The 5th Album Repackage</td>\n",
       "      <td>EXO</td>\n",
       "      <td>499849</td>\n",
       "      <td>2018.12.13</td>\n",
       "    </tr>\n",
       "    <tr>\n",
       "      <th>2</th>\n",
       "      <td>2018</td>\n",
       "      <td>10</td>\n",
       "      <td>What is Love?</td>\n",
       "      <td>TWICE</td>\n",
       "      <td>348797</td>\n",
       "      <td>2018.04.09</td>\n",
       "    </tr>\n",
       "    <tr>\n",
       "      <th>3</th>\n",
       "      <td>2018</td>\n",
       "      <td>13</td>\n",
       "      <td>NCT 2018 EMPATHY</td>\n",
       "      <td>NCT</td>\n",
       "      <td>330335</td>\n",
       "      <td>2018.03.14</td>\n",
       "    </tr>\n",
       "    <tr>\n",
       "      <th>4</th>\n",
       "      <td>2018</td>\n",
       "      <td>15</td>\n",
       "      <td>YES or YES</td>\n",
       "      <td>TWICE</td>\n",
       "      <td>325761</td>\n",
       "      <td>2018.11.05</td>\n",
       "    </tr>\n",
       "  </tbody>\n",
       "</table>\n",
       "</div>"
      ],
      "text/plain": [
       "   year  rank                                    title singer    sales  \\\n",
       "0  2018     3  DON''T MESS UP MY TEMPO - The 5th Album    EXO  1452030   \n",
       "1  2018     7      LOVE SHOT - The 5th Album Repackage    EXO   499849   \n",
       "2  2018    10                            What is Love?  TWICE   348797   \n",
       "3  2018    13                         NCT 2018 EMPATHY    NCT   330335   \n",
       "4  2018    15                               YES or YES  TWICE   325761   \n",
       "\n",
       "  release_date  \n",
       "0   2018.11.02  \n",
       "1   2018.12.13  \n",
       "2   2018.04.09  \n",
       "3   2018.03.14  \n",
       "4   2018.11.05  "
      ]
     },
     "execution_count": 44,
     "metadata": {},
     "output_type": "execute_result"
    }
   ],
   "source": [
    "# 확인\n",
    "total_yearly_album_df.head()"
   ]
  },
  {
   "cell_type": "code",
   "execution_count": 40,
   "metadata": {},
   "outputs": [
    {
     "data": {
      "text/plain": [
       "(127, 6)"
      ]
     },
     "execution_count": 40,
     "metadata": {},
     "output_type": "execute_result"
    }
   ],
   "source": [
    "# shape 확인: 총 127개 이다.\n",
    "total_yearly_album_df.shape"
   ]
  },
  {
   "attachments": {},
   "cell_type": "markdown",
   "metadata": {},
   "source": [
    "### 2. DB INSERT_yearly_album_chart"
   ]
  },
  {
   "cell_type": "code",
   "execution_count": 64,
   "metadata": {},
   "outputs": [],
   "source": [
    "# insert\n",
    "for i in range(len(total_yearly_album_df)):\n",
    "    cur.execute(f\"INSERT INTO yearly_album_chart (year, ranking, singer, title, sales, release_date) VALUES \\\n",
    "                ({total_yearly_album_df['year'][i]}, {total_yearly_album_df['rank'][i]}, '{total_yearly_album_df['singer'][i]}', '{total_yearly_album_df['title'][i]}', {total_yearly_album_df['sales'][i]}, '{total_yearly_album_df['release_date'][i]}');\")"
   ]
  },
  {
   "cell_type": "code",
   "execution_count": null,
   "metadata": {},
   "outputs": [],
   "source": [
    "cur.execute(f\"UPDATE yearly_album_chart SET release_date = null WHERE release_date = 'nan';\")"
   ]
  },
  {
   "cell_type": "code",
   "execution_count": 65,
   "metadata": {},
   "outputs": [],
   "source": [
    "# db 반영\n",
    "conn.commit()"
   ]
  },
  {
   "cell_type": "code",
   "execution_count": 72,
   "metadata": {},
   "outputs": [],
   "source": [
    "conn.close()"
   ]
  }
 ],
 "metadata": {
  "kernelspec": {
   "display_name": "base",
   "language": "python",
   "name": "python3"
  },
  "language_info": {
   "codemirror_mode": {
    "name": "ipython",
    "version": 3
   },
   "file_extension": ".py",
   "mimetype": "text/x-python",
   "name": "python",
   "nbconvert_exporter": "python",
   "pygments_lexer": "ipython3",
   "version": "3.10.9"
  },
  "orig_nbformat": 4
 },
 "nbformat": 4,
 "nbformat_minor": 2
}
